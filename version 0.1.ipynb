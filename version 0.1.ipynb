{
 "cells": [
  {
   "cell_type": "code",
   "execution_count": 79,
   "metadata": {},
   "outputs": [],
   "source": [
    "import numpy as np\n",
    "import pandas as pd\n",
    "import matplotlib.pyplot as plt"
   ]
  },
  {
   "cell_type": "code",
   "execution_count": 50,
   "metadata": {},
   "outputs": [],
   "source": [
    "ratings_columns = ['userID','movieID','rating','timestamp']\n",
    "ratings_df = pd.read_csv(r'ml-25m\\ratings.csv',names=ratings_columns,\n",
    "                         skiprows=1,nrows=5000000)\n"
   ]
  },
  {
   "cell_type": "code",
   "execution_count": 51,
   "metadata": {},
   "outputs": [],
   "source": [
    "movies_columns = ['movieID','title','genre']\n",
    "movies_df = pd.read_csv(r'ml-25m\\movies.csv',names=movies_columns,skiprows=1)"
   ]
  },
  {
   "cell_type": "code",
   "execution_count": 52,
   "metadata": {},
   "outputs": [],
   "source": [
    "df = pd.merge(ratings_df,movies_df,on='movieID')"
   ]
  },
  {
   "cell_type": "code",
   "execution_count": 54,
   "metadata": {
    "scrolled": true
   },
   "outputs": [],
   "source": [
    "pvt = df.pivot_table(index='userID',columns='title',values='rating')"
   ]
  },
  {
   "cell_type": "code",
   "execution_count": 57,
   "metadata": {},
   "outputs": [],
   "source": [
    "movie_input = 'Inception (2010)'\n",
    "rating_input = pvt[movie_input]\n",
    "similar_input = pvt.corrwith(rating_input)\n",
    "correlation_input = pd.DataFrame(similar_input,columns=['Correlation'])"
   ]
  },
  {
   "cell_type": "code",
   "execution_count": 64,
   "metadata": {
    "collapsed": true
   },
   "outputs": [
    {
     "data": {
      "text/html": [
       "<div>\n",
       "<style scoped>\n",
       "    .dataframe tbody tr th:only-of-type {\n",
       "        vertical-align: middle;\n",
       "    }\n",
       "\n",
       "    .dataframe tbody tr th {\n",
       "        vertical-align: top;\n",
       "    }\n",
       "\n",
       "    .dataframe thead th {\n",
       "        text-align: right;\n",
       "    }\n",
       "</style>\n",
       "<table border=\"1\" class=\"dataframe\">\n",
       "  <thead>\n",
       "    <tr style=\"text-align: right;\">\n",
       "      <th></th>\n",
       "      <th>Correlation</th>\n",
       "    </tr>\n",
       "    <tr>\n",
       "      <th>title</th>\n",
       "      <th></th>\n",
       "    </tr>\n",
       "  </thead>\n",
       "  <tbody>\n",
       "    <tr>\n",
       "      <th>Salt and Fire (2016)</th>\n",
       "      <td>1.0</td>\n",
       "    </tr>\n",
       "    <tr>\n",
       "      <th>Once Upon a Time Twenty Years Later (1981)</th>\n",
       "      <td>1.0</td>\n",
       "    </tr>\n",
       "    <tr>\n",
       "      <th>Alice's Wonderland (1923)</th>\n",
       "      <td>1.0</td>\n",
       "    </tr>\n",
       "    <tr>\n",
       "      <th>We Are Not Angels (1992)</th>\n",
       "      <td>1.0</td>\n",
       "    </tr>\n",
       "    <tr>\n",
       "      <th>Noma: My Perfect Storm (2015)</th>\n",
       "      <td>1.0</td>\n",
       "    </tr>\n",
       "    <tr>\n",
       "      <th>...</th>\n",
       "      <td>...</td>\n",
       "    </tr>\n",
       "    <tr>\n",
       "      <th>Tom and Jerry Meet Sherlock Holmes (2010)</th>\n",
       "      <td>-1.0</td>\n",
       "    </tr>\n",
       "    <tr>\n",
       "      <th>The Dark Hour (2007)</th>\n",
       "      <td>-1.0</td>\n",
       "    </tr>\n",
       "    <tr>\n",
       "      <th>S*P*Y*S (1974)</th>\n",
       "      <td>-1.0</td>\n",
       "    </tr>\n",
       "    <tr>\n",
       "      <th>Blind (Beul-la-in-deu) (2011)</th>\n",
       "      <td>-1.0</td>\n",
       "    </tr>\n",
       "    <tr>\n",
       "      <th>Pumzi (2009)</th>\n",
       "      <td>-1.0</td>\n",
       "    </tr>\n",
       "  </tbody>\n",
       "</table>\n",
       "<p>23222 rows × 1 columns</p>\n",
       "</div>"
      ],
      "text/plain": [
       "                                            Correlation\n",
       "title                                                  \n",
       "Salt and Fire (2016)                                1.0\n",
       "Once Upon a Time Twenty Years Later (1981)          1.0\n",
       "Alice's Wonderland (1923)                           1.0\n",
       "We Are Not Angels (1992)                            1.0\n",
       "Noma: My Perfect Storm (2015)                       1.0\n",
       "...                                                 ...\n",
       "Tom and Jerry Meet Sherlock Holmes (2010)          -1.0\n",
       "The Dark Hour (2007)                               -1.0\n",
       "S*P*Y*S (1974)                                     -1.0\n",
       "Blind (Beul-la-in-deu) (2011)                      -1.0\n",
       "Pumzi (2009)                                       -1.0\n",
       "\n",
       "[23222 rows x 1 columns]"
      ]
     },
     "execution_count": 64,
     "metadata": {},
     "output_type": "execute_result"
    }
   ],
   "source": [
    "correlation_input.dropna(inplace=True)\n",
    "correlation_input.sort_values('Correlation',ascending=False)"
   ]
  },
  {
   "cell_type": "code",
   "execution_count": 100,
   "metadata": {},
   "outputs": [],
   "source": [
    "rating_stats = df.groupby('title')['rating'].agg(['mean','count'])"
   ]
  },
  {
   "cell_type": "code",
   "execution_count": 105,
   "metadata": {},
   "outputs": [],
   "source": [
    "correlation_input = correlation_input.join(rating_stats['count'])"
   ]
  },
  {
   "cell_type": "code",
   "execution_count": 117,
   "metadata": {},
   "outputs": [
    {
     "data": {
      "text/html": [
       "<div>\n",
       "<style scoped>\n",
       "    .dataframe tbody tr th:only-of-type {\n",
       "        vertical-align: middle;\n",
       "    }\n",
       "\n",
       "    .dataframe tbody tr th {\n",
       "        vertical-align: top;\n",
       "    }\n",
       "\n",
       "    .dataframe thead th {\n",
       "        text-align: right;\n",
       "    }\n",
       "</style>\n",
       "<table border=\"1\" class=\"dataframe\">\n",
       "  <thead>\n",
       "    <tr style=\"text-align: right;\">\n",
       "      <th></th>\n",
       "      <th>Correlation</th>\n",
       "      <th>count</th>\n",
       "    </tr>\n",
       "    <tr>\n",
       "      <th>title</th>\n",
       "      <th></th>\n",
       "      <th></th>\n",
       "    </tr>\n",
       "  </thead>\n",
       "  <tbody>\n",
       "    <tr>\n",
       "      <th>Inception (2010)</th>\n",
       "      <td>1.000000</td>\n",
       "      <td>7826</td>\n",
       "    </tr>\n",
       "    <tr>\n",
       "      <th>Interstellar (2014)</th>\n",
       "      <td>0.468282</td>\n",
       "      <td>4572</td>\n",
       "    </tr>\n",
       "    <tr>\n",
       "      <th>Shutter Island (2010)</th>\n",
       "      <td>0.450315</td>\n",
       "      <td>3813</td>\n",
       "    </tr>\n",
       "    <tr>\n",
       "      <th>Prestige, The (2006)</th>\n",
       "      <td>0.412156</td>\n",
       "      <td>4649</td>\n",
       "    </tr>\n",
       "    <tr>\n",
       "      <th>Dark Knight, The (2008)</th>\n",
       "      <td>0.406544</td>\n",
       "      <td>8175</td>\n",
       "    </tr>\n",
       "    <tr>\n",
       "      <th>...</th>\n",
       "      <td>...</td>\n",
       "      <td>...</td>\n",
       "    </tr>\n",
       "    <tr>\n",
       "      <th>Father of the Bride Part II (1995)</th>\n",
       "      <td>-0.060186</td>\n",
       "      <td>2339</td>\n",
       "    </tr>\n",
       "    <tr>\n",
       "      <th>Under Siege 2: Dark Territory (1995)</th>\n",
       "      <td>-0.075716</td>\n",
       "      <td>1593</td>\n",
       "    </tr>\n",
       "    <tr>\n",
       "      <th>Sabrina (1995)</th>\n",
       "      <td>-0.081326</td>\n",
       "      <td>2395</td>\n",
       "    </tr>\n",
       "    <tr>\n",
       "      <th>Truth About Cats &amp; Dogs, The (1996)</th>\n",
       "      <td>-0.104357</td>\n",
       "      <td>2764</td>\n",
       "    </tr>\n",
       "    <tr>\n",
       "      <th>Beavis and Butt-Head Do America (1996)</th>\n",
       "      <td>-0.121069</td>\n",
       "      <td>1685</td>\n",
       "    </tr>\n",
       "  </tbody>\n",
       "</table>\n",
       "<p>813 rows × 2 columns</p>\n",
       "</div>"
      ],
      "text/plain": [
       "                                        Correlation  count\n",
       "title                                                     \n",
       "Inception (2010)                           1.000000   7826\n",
       "Interstellar (2014)                        0.468282   4572\n",
       "Shutter Island (2010)                      0.450315   3813\n",
       "Prestige, The (2006)                       0.412156   4649\n",
       "Dark Knight, The (2008)                    0.406544   8175\n",
       "...                                             ...    ...\n",
       "Father of the Bride Part II (1995)        -0.060186   2339\n",
       "Under Siege 2: Dark Territory (1995)      -0.075716   1593\n",
       "Sabrina (1995)                            -0.081326   2395\n",
       "Truth About Cats & Dogs, The (1996)       -0.104357   2764\n",
       "Beavis and Butt-Head Do America (1996)    -0.121069   1685\n",
       "\n",
       "[813 rows x 2 columns]"
      ]
     },
     "execution_count": 117,
     "metadata": {},
     "output_type": "execute_result"
    }
   ],
   "source": [
    "correlation_input[correlation_input['count']>1500].sort_values('Correlation',ascending=False)"
   ]
  }
 ],
 "metadata": {
  "kernelspec": {
   "display_name": "Python 3",
   "language": "python",
   "name": "python3"
  },
  "language_info": {
   "codemirror_mode": {
    "name": "ipython",
    "version": 3
   },
   "file_extension": ".py",
   "mimetype": "text/x-python",
   "name": "python",
   "nbconvert_exporter": "python",
   "pygments_lexer": "ipython3",
   "version": "3.8.3"
  }
 },
 "nbformat": 4,
 "nbformat_minor": 4
}
